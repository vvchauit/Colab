{
  "nbformat": 4,
  "nbformat_minor": 0,
  "metadata": {
    "colab": {
      "name": "Apple Stock.ipynb",
      "private_outputs": true,
      "provenance": [],
      "toc_visible": true
    },
    "kernelspec": {
      "name": "python3",
      "display_name": "Python 3"
    },
    "language_info": {
      "name": "python"
    }
  },
  "cells": [
    {
      "cell_type": "code",
      "metadata": {
        "id": "hTDiNfQkNGs9"
      },
      "source": [
        ""
      ],
      "execution_count": null,
      "outputs": []
    },
    {
      "cell_type": "markdown",
      "metadata": {
        "id": "LdMtX0E3NU-V"
      },
      "source": [
        "Apple Stock\n",
        "Introduction:\n",
        "We are going to use Apple's stock price.\n",
        "\n",
        "Step 1. Import the necessary libraries"
      ]
    },
    {
      "cell_type": "code",
      "metadata": {
        "id": "RRnlprlJNYpl"
      },
      "source": [
        "import pandas as pd\n",
        "import numpy as np\n",
        "import matplotlib.pyplot as plt\n",
        "%matplotlib inline"
      ],
      "execution_count": null,
      "outputs": []
    },
    {
      "cell_type": "code",
      "metadata": {
        "id": "h9TmucTBN1f1"
      },
      "source": [
        "from google.colab import drive \n",
        "drive.mount('/content/gdrive')"
      ],
      "execution_count": null,
      "outputs": []
    },
    {
      "cell_type": "code",
      "metadata": {
        "id": "kO42BGh0N_95"
      },
      "source": [
        "from google.colab import drive\n",
        "drive.mount('/content/drive')"
      ],
      "execution_count": null,
      "outputs": []
    },
    {
      "cell_type": "code",
      "metadata": {
        "id": "_7iQoqOdNxsc"
      },
      "source": [
        "import os\n",
        "os.chdir(\"/content/drive/MyDrive/colab\")\n",
        "print(\"Directory changed\")"
      ],
      "execution_count": null,
      "outputs": []
    },
    {
      "cell_type": "code",
      "metadata": {
        "id": "bhlJER9cNhJ1"
      },
      "source": [
        "apple = pd.read_csv('data/appl_1980_2014.csv')\n",
        "\n",
        "apple.head()"
      ],
      "execution_count": null,
      "outputs": []
    },
    {
      "cell_type": "markdown",
      "metadata": {
        "id": "ygbW6y52ORWY"
      },
      "source": [
        "Step 4. Check out the type of the columns"
      ]
    },
    {
      "cell_type": "code",
      "metadata": {
        "id": "oaR-a1nQOUD3"
      },
      "source": [
        "apple.dtypes"
      ],
      "execution_count": null,
      "outputs": []
    },
    {
      "cell_type": "markdown",
      "metadata": {
        "id": "PU3dQSobOY3Z"
      },
      "source": [
        "Step 5. Transform the Date column as a datetime type"
      ]
    },
    {
      "cell_type": "code",
      "metadata": {
        "id": "_ir2TjyTOcaF"
      },
      "source": [
        "apple.Date = pd.to_datetime(apple.Date)\n",
        "apple"
      ],
      "execution_count": null,
      "outputs": []
    },
    {
      "cell_type": "markdown",
      "metadata": {
        "id": "0cvvck-KOrPf"
      },
      "source": [
        "Step 6. Set the date as the index"
      ]
    },
    {
      "cell_type": "code",
      "metadata": {
        "id": "Kcy6PYoBOt4X"
      },
      "source": [
        "apple.Date = pd.to_datetime(apple.Date)\n",
        "datetime_index = pd.DatetimeIndex(apple.Date.values)\n",
        "df2=apple.set_index(datetime_index)\n",
        "print(df2)\n"
      ],
      "execution_count": null,
      "outputs": []
    },
    {
      "cell_type": "markdown",
      "metadata": {
        "id": "DVP0yJkePGNL"
      },
      "source": [
        "Step 7. Is there any duplicate dates?"
      ]
    },
    {
      "cell_type": "code",
      "metadata": {
        "id": "Wimds0-aPJxn"
      },
      "source": [
        "apple.index.nunique() == apple.shape[0]"
      ],
      "execution_count": null,
      "outputs": []
    },
    {
      "cell_type": "markdown",
      "metadata": {
        "id": "KyvL3JipPZ_N"
      },
      "source": [
        "Step 8. Ops...it seems the index is from the most recent date. Make the first entry the oldest date."
      ]
    },
    {
      "cell_type": "code",
      "metadata": {
        "id": "4wAESAkyXaq4"
      },
      "source": [
        "apple.index.is_unique"
      ],
      "execution_count": null,
      "outputs": []
    },
    {
      "cell_type": "code",
      "metadata": {
        "id": "s1GSoNbcPd-Z"
      },
      "source": [
        "apple.sort_index()"
      ],
      "execution_count": null,
      "outputs": []
    },
    {
      "cell_type": "markdown",
      "metadata": {
        "id": "rFjVc9fsXhcN"
      },
      "source": [
        "Step 9. Get the last business day of each month"
      ]
    },
    {
      "cell_type": "code",
      "metadata": {
        "id": "SEdmSI7_XlG4"
      },
      "source": [
        "apple.resample('BM').mean()"
      ],
      "execution_count": null,
      "outputs": []
    },
    {
      "cell_type": "markdown",
      "metadata": {
        "id": "aO7W8AcnXs6P"
      },
      "source": [
        "Step 10. What is the difference in days between the first day and the oldest¶"
      ]
    },
    {
      "cell_type": "code",
      "metadata": {
        "id": "O-47xxNLXvul"
      },
      "source": [
        "(apple.index.max() - apple.index.min()).days"
      ],
      "execution_count": null,
      "outputs": []
    },
    {
      "cell_type": "markdown",
      "metadata": {
        "id": "wypzqvhxX53x"
      },
      "source": [
        "Step 11. How many months in the data we have?"
      ]
    },
    {
      "cell_type": "code",
      "metadata": {
        "id": "OwCog1iCX9Vw"
      },
      "source": [
        "len(apple.resample('BM').mean())"
      ],
      "execution_count": null,
      "outputs": []
    },
    {
      "cell_type": "markdown",
      "metadata": {
        "id": "fRY2FqxoYDVk"
      },
      "source": [
        "Step 12. Plot the 'Adj Close' value. Set the size of the figure to 13.5 x 9 inches"
      ]
    },
    {
      "cell_type": "code",
      "metadata": {
        "id": "A3vMRYPOYGEu"
      },
      "source": [
        "plt.figure(figsize = (13.5, 9))\n",
        "apple['Adj Close'].plot()"
      ],
      "execution_count": null,
      "outputs": []
    }
  ]
}